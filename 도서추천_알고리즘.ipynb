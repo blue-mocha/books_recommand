{
  "nbformat": 4,
  "nbformat_minor": 0,
  "metadata": {
    "colab": {
      "provenance": [],
      "authorship_tag": "ABX9TyOw738hb8noBqoWPGTZlSkZ",
      "include_colab_link": true
    },
    "kernelspec": {
      "name": "python3",
      "display_name": "Python 3"
    },
    "language_info": {
      "name": "python"
    }
  },
  "cells": [
    {
      "cell_type": "markdown",
      "metadata": {
        "id": "view-in-github",
        "colab_type": "text"
      },
      "source": [
        "<a href=\"https://colab.research.google.com/github/blue-mocha/books_recommand/blob/main/%EB%8F%84%EC%84%9C%EC%B6%94%EC%B2%9C_%EC%95%8C%EA%B3%A0%EB%A6%AC%EC%A6%98.ipynb\" target=\"_parent\"><img src=\"https://colab.research.google.com/assets/colab-badge.svg\" alt=\"Open In Colab\"/></a>"
      ]
    },
    {
      "cell_type": "code",
      "execution_count": null,
      "metadata": {
        "id": "UuvUXkp1xUD_",
        "colab": {
          "base_uri": "https://localhost:8080/"
        },
        "outputId": "3f54c677-8307-4d7d-d68e-d13751eddc1f"
      },
      "outputs": [
        {
          "output_type": "stream",
          "name": "stdout",
          "text": [
            "중복도서 ['살롱 드 경성', '방구석 미술관']\n",
            "자카드유사도 결과 [95 28 17  5 10] ['그림들', '스즈키 바이올린 교본 1', '화가가 사랑한 바다', '거의 모든 순간의 미술사', '방구석 미술관 2: 한국']\n",
            "코사인유사도 결과 [28 78 32 35 36] ['스즈키 바이올린 교본 1', '공간력 수업', '미니 캐릭터 그리는 법', '스즈메의 문단속 공식 비주얼 가이드', '오펜하이머 각본집']\n"
          ]
        }
      ],
      "source": [
        "import sklearn\n",
        "from sklearn.feature_extraction.text import TfidfVectorizer\n",
        "from sklearn.metrics.pairwise import cosine_similarity\n",
        "import numpy as np\n",
        "\n",
        "\n",
        "#유저정보 예시 (좋아요 리스트 - 책제목, 책소개)-------------------------------------------------#\n",
        "title_1 = ['살롱 드 경성', '방구석 미술관', '이구아나']\n",
        "intro_1 = ['''〈김인혜의 살롱 드 경성〉을 드디어 책으로 만나다!“이 책은 우리 근대문화사의 소중한 증언록이다.”_유홍준\n",
        "식민지 암흑기와 전쟁의 비극 속에 삶은 부서졌지만 예술을 향한 그들의 집념과 열정은 멈추지 않았다\n",
        "근원으로 돌아가 삶의 열망과 존재의 이유를 뜨겁게 되묻는 한국 근대기 예술가들의 슬프도록 찬란한 유산\n",
        "예술이 삶이 되고 삶이 예술이 되다! 가장 헐벗고 참혹했던 순간에도 문학과 미술을 꽃피운\n",
        "한국 근대 예술가들의 세계로 초대합니다!오늘날 한국 미술계를 향한 전 세계의 관심이 뜨겁다. 프리즈 등 세계적 아트페어가 서울에서 열려 문전성시를 이루고,\n",
        "김환기 등 한국 화가의 작품이 100억이 넘는 가격에 낙찰되기도 한다.\n",
        "이처럼 불과 100여 년 만에 한국 미술이 안팎으로 급성장하기까지, 열악한 환경에서도 예술혼을 불태웠던 선구자들이 있었다.\n",
        "바로 19세기 말부터 1950년대까지 과도기에 활약했던 근대 미술가들이다. 그럼에도 우리는 근대기 한국 작가들이라고 하면 이중섭과 박수근 정도만 떠올릴 뿐, 아는 바가 많지 않다.\n",
        "이에 국립현대미술관의《미술이 문학을 만났을 때》《이중섭 백년의 신화》《내가 사랑한 미술관》《윤형근》등 블록버스터 전시를 기획했던 큐레이터 김인혜가\n",
        "한국 근대사를 수놓은 천재 화가들의 생애와 작품 세계를 정리한『살롱 드 경성』을 펴냈다.'''\n",
        "]\n",
        "\n",
        "\n",
        "#웹크롤링(교보문고, 예술분야 베스트셀러)------------------------------#\n",
        "import requests\n",
        "import json\n",
        "\n",
        "#json 데이터 웹크롤링\n",
        "url = '''https://product.kyobobook.co.kr/api/gw/pdt/best-seller/online?page=1&per=100\n",
        "&saleCmdtDvsnCode=KOR&saleCmdtClstCode=23&saleCmdtDsplDvsnCode=KOR&period=002&dsplDvsnCode=001&dsplTrgtDvsnCode=004'''\n",
        "headers = {'User-Agent':'Mozilla/5.0 (Windows NT 6.3; Win64; x64) AppleWebKit/537.36 (KHTML, like Gecko) Chrome/63.0.3239.132 Safari/537.36'}\n",
        "page = requests.get(url,headers=headers)\n",
        "json_data = json.loads(page.text)\n",
        "\n",
        "#필요_데이터 부분수집(책제목,책소개 부분)\n",
        "title_2 = []\n",
        "intro_2 = []\n",
        "for i in range(len(json_data['data']['bestSeller'])):\n",
        " title_2.append(json_data['data']['bestSeller'][i]['cmdtName'])\n",
        " intro_2.append(json_data['data']['bestSeller'][i]['inbukCntt'])\n",
        "\n",
        "\n",
        "#중복도서 제거---------------------------------------------------------------#\n",
        "dupe = list(set(title_1).intersection(title_2))\n",
        "dupe_idx = []\n",
        "\n",
        "for i in range(len(dupe)):\n",
        " dupe_idx.append(title_2.index(dupe[i]))\n",
        "\n",
        "if len(dupe_idx) > 0 :\n",
        " title_2 = np.delete(title_2,dupe_idx)\n",
        " intro_2 = np.delete(intro_2,dupe_idx)\n",
        "\n",
        "print(\"중복도서\",dupe)\n",
        "\n",
        "#책제목 + 책소개 합치기\n",
        "doc1 = \" \".join(title_1) + \" \".join(intro_1).replace(\"\\n\", \"\")\n",
        "doc2 = []\n",
        "for i in range(len(title_2)):\n",
        "   doc2.append(title_2[i] + ' ' + str(intro_2[i]).replace(\"\\n\", \"\"))\n",
        "\n",
        "\n",
        "#텍스트 토큰나이징\n",
        "doc1_tokenized = doc1.split()\n",
        "doc2_tokenized = list(map(lambda x: x.split(), doc2))\n",
        "\n",
        "\n",
        "#자카드 유사도-------------------------------------------------#\n",
        "\n",
        "jaccard_similarity = [] # 유사도 결과 리스트\n",
        "\n",
        "for i in range(len(doc2_tokenized)):\n",
        "\n",
        " doc_union = set(doc1_tokenized).union(set(doc2_tokenized[i])) # 합집합\n",
        " doc_intersection = set(doc1_tokenized).intersection(set(doc2_tokenized[i])) # 교집합\n",
        " jaccard_similarity.append (len(doc_intersection) / len(doc_union)) #합집합 대 교집합의 비율\n",
        "\n",
        "\n",
        "#유사도 sort 후,도서제목 리스트 받아내기.\n",
        "sorted_idx = np.array(jaccard_similarity).argsort()[::-1]\n",
        "sorted_idx = sorted_idx[: 5]\n",
        "\n",
        "\n",
        "#추천도서(결과)\n",
        "\n",
        "result_1 = []\n",
        "for i in sorted_idx:\n",
        " result_1.append(title_2[i])\n",
        "print(\"자카드유사도 결과\",sorted_idx, result_1) # >> 노드 서버에서 검색해서 제공.(좋아요 목록 업데이트 전까지 캐시유지)\n",
        "\n",
        "\n",
        "##코사인 유사도----------------------------------------------------------------#\n",
        "\n",
        "count_vectorizer = TfidfVectorizer() #2차원\n",
        "feature_vect_simple = count_vectorizer.fit_transform([doc1] + doc2)\n",
        "cos_res = cosine_similarity(feature_vect_simple[0] , feature_vect_simple)\n",
        "\n",
        "sorted_index = cos_res.argsort()[::-1] #::-1 역순 // 크기별로 인덱스 붙이기\n",
        "sorted_index = sorted_index[:,1: 6][0] #[[28 78 32 35 36]]\n",
        "\n",
        "result_2 = []\n",
        "for i in sorted_index:\n",
        " result_2.append(title_2[i])\n",
        "\n",
        "print(\"코사인유사도 결과\",sorted_index, result_2) #유사도가 높은 순으로 인덱스 반환\n",
        "\n",
        "#------------------------------------------------------------------------------\n",
        "\n",
        "#[결과 예시]\n",
        "\n",
        "#자카드유사도 > 코사인 유사도 : 키워드가 중요한 상황으로, 비슷한 카테고리(미술)에 관한 책들을 추천함.\n",
        "\n",
        "#자카드유사도 결과 [95 28 17  5 10] ['그림들', '스즈키 바이올린 교본 1', '화가가 사랑한 바다', '거의 모든 순간의 미술사', '방구석 미술관 2: 한국']\n",
        "#코사인유사도 결과 [28 78 32 35 36] ['스즈키 바이올린 교본 1', '공간력 수업', '미니 캐릭터 그리는 법', '스즈메의 문단속 공식 비주얼 가이드', '오펜하이머 각본집'\n",
        "\n",
        "\n",
        "#------------------------------------------------------------------------------"
      ]
    },
    {
      "cell_type": "code",
      "source": [],
      "metadata": {
        "id": "qrSu__WdGloC"
      },
      "execution_count": null,
      "outputs": []
    }
  ]
}